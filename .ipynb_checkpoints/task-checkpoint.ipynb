{
 "cells": [
  {
   "cell_type": "markdown",
   "id": "7c8ac9bb",
   "metadata": {
    "id": "7c8ac9bb"
   },
   "source": [
    "# Reading file"
   ]
  },
  {
   "cell_type": "code",
   "execution_count": 1,
   "id": "704671b9",
   "metadata": {
    "executionInfo": {
     "elapsed": 1479,
     "status": "ok",
     "timestamp": 1714248793882,
     "user": {
      "displayName": "M4tin gh",
      "userId": "02703429734831119402"
     },
     "user_tz": -210
    },
    "id": "704671b9"
   },
   "outputs": [],
   "source": [
    "import pandas as pd"
   ]
  },
  {
   "cell_type": "code",
   "execution_count": 2,
   "id": "684734f7",
   "metadata": {
    "executionInfo": {
     "elapsed": 2,
     "status": "ok",
     "timestamp": 1714248793882,
     "user": {
      "displayName": "M4tin gh",
      "userId": "02703429734831119402"
     },
     "user_tz": -210
    },
    "id": "684734f7"
   },
   "outputs": [],
   "source": [
    "file_path = 'booksummaries.txt'\n",
    "\n",
    "with open(file_path, 'r', encoding='utf-8') as file:\n",
    "    content = file.read()"
   ]
  },
  {
   "cell_type": "markdown",
   "id": "602063a5",
   "metadata": {
    "id": "602063a5"
   },
   "source": [
    "# Data Analyze"
   ]
  },
  {
   "cell_type": "code",
   "execution_count": 3,
   "id": "7ad3a420",
   "metadata": {
    "executionInfo": {
     "elapsed": 4338,
     "status": "ok",
     "timestamp": 1714248798218,
     "user": {
      "displayName": "M4tin gh",
      "userId": "02703429734831119402"
     },
     "user_tz": -210
    },
    "id": "7ad3a420"
   },
   "outputs": [],
   "source": [
    "def explore_text_content(content):\n",
    "    num_characters = len(content)\n",
    "    num_words = len(content.split())\n",
    "    unique_words = set(content.split())\n",
    "    num_unique_words = len(unique_words)\n",
    "    return num_characters, num_words, num_unique_words\n",
    "\n",
    "num_characters, num_words, num_unique_words = explore_text_content(content)"
   ]
  },
  {
   "cell_type": "code",
   "execution_count": 4,
   "id": "211a005b",
   "metadata": {
    "colab": {
     "base_uri": "https://localhost:8080/"
    },
    "executionInfo": {
     "elapsed": 4,
     "status": "ok",
     "timestamp": 1714248798218,
     "user": {
      "displayName": "M4tin gh",
      "userId": "02703429734831119402"
     },
     "user_tz": -210
    },
    "id": "211a005b",
    "outputId": "432ef178-9405-4677-dee7-5c0c32897d04"
   },
   "outputs": [
    {
     "name": "stdout",
     "output_type": "stream",
     "text": [
      "Number of characters: 43403998\n",
      "Number of words: 7313903\n",
      "Number of unique words: 379697\n"
     ]
    }
   ],
   "source": [
    "print(f\"Number of characters: {num_characters}\")\n",
    "print(f\"Number of words: {num_words}\")\n",
    "print(f\"Number of unique words: {num_unique_words}\")"
   ]
  },
  {
   "cell_type": "code",
   "execution_count": 5,
   "id": "a8ecb4af",
   "metadata": {
    "colab": {
     "base_uri": "https://localhost:8080/"
    },
    "executionInfo": {
     "elapsed": 70315,
     "status": "ok",
     "timestamp": 1714248868531,
     "user": {
      "displayName": "M4tin gh",
      "userId": "02703429734831119402"
     },
     "user_tz": -210
    },
    "id": "a8ecb4af",
    "outputId": "2e20e318-55e0-4b22-a825-4f7507f2c2ee"
   },
   "outputs": [
    {
     "name": "stderr",
     "output_type": "stream",
     "text": [
      "[nltk_data] Downloading package punkt to /root/nltk_data...\n",
      "[nltk_data]   Package punkt is already up-to-date!\n",
      "[nltk_data] Downloading package stopwords to /root/nltk_data...\n",
      "[nltk_data]   Package stopwords is already up-to-date!\n"
     ]
    }
   ],
   "source": [
    "import nltk\n",
    "from nltk.corpus import stopwords\n",
    "from nltk.tokenize import word_tokenize, sent_tokenize\n",
    "from nltk.probability import FreqDist\n",
    "import string\n",
    "nltk.download('punkt')\n",
    "nltk.download('stopwords')\n",
    "\n",
    "words = word_tokenize(content)\n",
    "sentences = sent_tokenize(content)\n",
    "stopWords = set(stopwords.words(\"english\"))"
   ]
  },
  {
   "cell_type": "code",
   "execution_count": 6,
   "id": "1b57b436",
   "metadata": {
    "colab": {
     "base_uri": "https://localhost:8080/"
    },
    "executionInfo": {
     "elapsed": 4980,
     "status": "ok",
     "timestamp": 1714248873500,
     "user": {
      "displayName": "M4tin gh",
      "userId": "02703429734831119402"
     },
     "user_tz": -210
    },
    "id": "1b57b436",
    "outputId": "566bfc2c-a686-4613-cf27-bbc9c0e3a2e6"
   },
   "outputs": [
    {
     "data": {
      "text/plain": [
       "[(',', 459684),\n",
       " ('the', 441251),\n",
       " ('.', 326359),\n",
       " ('to', 246217),\n",
       " ('and', 240876),\n",
       " ('of', 198934),\n",
       " ('a', 178633),\n",
       " ('is', 120096),\n",
       " ('in', 116285),\n",
       " (\"''\", 86302)]"
      ]
     },
     "execution_count": 6,
     "metadata": {},
     "output_type": "execute_result"
    }
   ],
   "source": [
    "fdist = FreqDist(words)\n",
    "fdist.most_common(10)"
   ]
  },
  {
   "cell_type": "code",
   "execution_count": 7,
   "id": "65a4ff40",
   "metadata": {
    "colab": {
     "base_uri": "https://localhost:8080/"
    },
    "executionInfo": {
     "elapsed": 3532,
     "status": "ok",
     "timestamp": 1714248877029,
     "user": {
      "displayName": "M4tin gh",
      "userId": "02703429734831119402"
     },
     "user_tz": -210
    },
    "id": "65a4ff40",
    "outputId": "355556b7-84c8-46a6-f4c9-f7249b772561"
   },
   "outputs": [
    {
     "data": {
      "text/plain": [
       "[('one', 14971),\n",
       " ('time', 11103),\n",
       " ('also', 10752),\n",
       " ('two', 10404),\n",
       " ('life', 9822),\n",
       " ('novel', 9169),\n",
       " ('back', 9080),\n",
       " ('father', 8910),\n",
       " ('story', 8574),\n",
       " ('book', 8507)]"
      ]
     },
     "execution_count": 7,
     "metadata": {},
     "output_type": "execute_result"
    }
   ],
   "source": [
    "filtered_words = [word for word in words if word.lower() not in stopWords and word.isalpha()]\n",
    "\n",
    "fdist_filtered = FreqDist(filtered_words)\n",
    "fdist_filtered.most_common(10)"
   ]
  },
  {
   "cell_type": "markdown",
   "id": "c90d7a1c",
   "metadata": {
    "id": "c90d7a1c"
   },
   "source": [
    "# Data Cleaning"
   ]
  },
  {
   "cell_type": "code",
   "execution_count": 8,
   "id": "555e264a",
   "metadata": {
    "executionInfo": {
     "elapsed": 57907,
     "status": "ok",
     "timestamp": 1714248934933,
     "user": {
      "displayName": "M4tin gh",
      "userId": "02703429734831119402"
     },
     "user_tz": -210
    },
    "id": "555e264a"
   },
   "outputs": [],
   "source": [
    "freqTable = dict()\n",
    "for word in words:\n",
    "  word = word.lower()\n",
    "  if word in stopWords:\n",
    "    continue\n",
    "  if word in freqTable:\n",
    "    freqTable[word] += 1\n",
    "  else:\n",
    "    freqTable[word] = 1\n",
    "\n",
    "sentences = content.split('.')\n",
    "sentenceValue = dict()\n",
    "\n",
    "for sentence in sentences:\n",
    "    sentenceWords = word_tokenize(sentence)\n",
    "    sentenceFreq = sum([freqTable.get(word.lower(), 0) for word in sentenceWords])\n",
    "    if sentence not in sentenceValue:\n",
    "        sentenceValue[sentence] = sentenceFreq\n",
    "\n",
    "sumValues = sum(sentenceValue.values())\n",
    "average = sumValues / len(sentenceValue) if len(sentenceValue) > 0 else 0\n",
    "\n",
    "summaryword = ' '.join([sentence for sentence, value in sentenceValue.items() if value > (2.4 * average)])"
   ]
  },
  {
   "cell_type": "markdown",
   "id": "3c3c0e1f",
   "metadata": {
    "id": "3c3c0e1f"
   },
   "source": [
    "# T5"
   ]
  },
  {
   "cell_type": "code",
   "execution_count": 9,
   "id": "600733dd",
   "metadata": {
    "colab": {
     "base_uri": "https://localhost:8080/"
    },
    "executionInfo": {
     "elapsed": 16348,
     "status": "ok",
     "timestamp": 1714248951271,
     "user": {
      "displayName": "M4tin gh",
      "userId": "02703429734831119402"
     },
     "user_tz": -210
    },
    "id": "600733dd",
    "outputId": "89352396-32d6-45cd-ac9a-9716938755f1"
   },
   "outputs": [
    {
     "name": "stderr",
     "output_type": "stream",
     "text": [
      "/usr/local/lib/python3.10/dist-packages/huggingface_hub/utils/_token.py:88: UserWarning: \n",
      "The secret `HF_TOKEN` does not exist in your Colab secrets.\n",
      "To authenticate with the Hugging Face Hub, create a token in your settings tab (https://huggingface.co/settings/tokens), set it as secret in your Google Colab and restart your session.\n",
      "You will be able to reuse this secret in all of your notebooks.\n",
      "Please note that authentication is recommended but still optional to access public models or datasets.\n",
      "  warnings.warn(\n",
      "/usr/local/lib/python3.10/dist-packages/transformers/models/auto/modeling_auto.py:1699: FutureWarning: The class `AutoModelWithLMHead` is deprecated and will be removed in a future version. Please use `AutoModelForCausalLM` for causal language models, `AutoModelForMaskedLM` for masked language models and `AutoModelForSeq2SeqLM` for encoder-decoder models.\n",
      "  warnings.warn(\n"
     ]
    }
   ],
   "source": [
    "import torch\n",
    "from transformers import AutoTokenizer, AutoModelWithLMHead\n",
    "tokenizer = AutoTokenizer.from_pretrained('t5-base')\n",
    "model = AutoModelWithLMHead.from_pretrained('t5-base', return_dict=True)"
   ]
  },
  {
   "cell_type": "code",
   "execution_count": 10,
   "id": "e5e17f9f",
   "metadata": {
    "executionInfo": {
     "elapsed": 28869,
     "status": "ok",
     "timestamp": 1714248980130,
     "user": {
      "displayName": "M4tin gh",
      "userId": "02703429734831119402"
     },
     "user_tz": -210
    },
    "id": "e5e17f9f"
   },
   "outputs": [],
   "source": [
    "inputs = tokenizer.encode(\"summarize: \" + summaryword,\n",
    "return_tensors='pt',\n",
    "max_length=300,\n",
    "truncation=True)\n",
    "\n",
    "summary_ids = model.generate(inputs, max_length=120, min_length=80, length_penalty=5, num_beams=4, early_stopping=True, no_repeat_ngram_size=3)\n",
    "summaryt5 = tokenizer.decode(summary_ids[0])"
   ]
  },
  {
   "cell_type": "markdown",
   "id": "dd246fa0",
   "metadata": {
    "id": "dd246fa0"
   },
   "source": [
    "# Splitting each line into 7 words"
   ]
  },
  {
   "cell_type": "code",
   "execution_count": 11,
   "id": "778c5c70",
   "metadata": {
    "executionInfo": {
     "elapsed": 15,
     "status": "ok",
     "timestamp": 1714248980131,
     "user": {
      "displayName": "M4tin gh",
      "userId": "02703429734831119402"
     },
     "user_tz": -210
    },
    "id": "778c5c70"
   },
   "outputs": [],
   "source": [
    "words1 = summaryt5.split()\n",
    "lines = [' '.join(words1[i:i+7]) for i in range(0, len(words1), 7)]\n",
    "\n",
    "main_text = '\\n'.join(lines)\n",
    "\n",
    "main_text = main_text.replace('<pad>', '').replace('</s>', '')"
   ]
  },
  {
   "cell_type": "markdown",
   "id": "42b6ef70",
   "metadata": {
    "id": "42b6ef70"
   },
   "source": [
    "# Summary output of the file"
   ]
  },
  {
   "cell_type": "code",
   "execution_count": 12,
   "id": "e1dc8ee3",
   "metadata": {
    "executionInfo": {
     "elapsed": 16,
     "status": "ok",
     "timestamp": 1714248980132,
     "user": {
      "displayName": "M4tin gh",
      "userId": "02703429734831119402"
     },
     "user_tz": -210
    },
    "id": "e1dc8ee3"
   },
   "outputs": [],
   "source": [
    "with open('summaries.txt', 'w') as file:\n",
    "    file.write(main_text)"
   ]
  },
  {
   "cell_type": "markdown",
   "id": "c1a89e72",
   "metadata": {
    "id": "c1a89e72"
   },
   "source": [
    "# Creating images"
   ]
  },
  {
   "cell_type": "code",
   "execution_count": 13,
   "id": "576f6bdf",
   "metadata": {
    "colab": {
     "base_uri": "https://localhost:8080/",
     "height": 406
    },
    "executionInfo": {
     "elapsed": 15,
     "status": "ok",
     "timestamp": 1714248980132,
     "user": {
      "displayName": "M4tin gh",
      "userId": "02703429734831119402"
     },
     "user_tz": -210
    },
    "id": "576f6bdf",
    "outputId": "02f81e99-220f-48c9-ab4d-1a257fc02a73"
   },
   "outputs": [
    {
     "data": {
      "image/png": "[encoded data removed]",
      "text/plain": [
       "<Figure size 640x480 with 1 Axes>"
      ]
     },
     "metadata": {},
     "output_type": "display_data"
    }
   ],
   "source": [
    "import matplotlib.pyplot as plt\n",
    "import numpy as np\n",
    "\n",
    "text = main_text\n",
    "fig, ax = plt.subplots()\n",
    "ax.text(0.5, 0.3, text, fontsize=12, ha='center')\n",
    "ax.axis('off')\n",
    "plt.savefig('image.png')\n",
    "plt.show()"
   ]
  },
  {
   "cell_type": "code",
   "execution_count": 15,
   "id": "5We5MqEjLVxW",
   "metadata": {
    "colab": {
     "base_uri": "https://localhost:8080/",
     "height": 301,
     "referenced_widgets": [
      "1cf2a631b4ab42c5aacfe5640528a436",
      "cddf443ab9c84ab3a7ca89428e58a86d",
      "c5e32b7c81fe456d93686768517447a5",
      "20452ecff1274d678fc50ebb981c4436",
      "24ef0c4e948b4b568aa141d9d616fde9",
      "69c7960bb994453898a3ca4fd67def74",
      "5d0ff8fdf74e45929c92bb7dfd4c4efb",
      "89b2e1f367064d9090c5fb56acefc0ae",
      "62ca10ca4f4f4c59af5733929d320f0c",
      "6e4fd42e91094263ab30e39443f3d2ad",
      "96acebea0b2f418480823d7f5bcf3277",
      "e68340aff01a4cb5817787969e640fd3",
      "5546aee6dd014cfc96047f367f065947",
      "56fa2700f55142d586f570ccdbf8e101",
      "e26b0e5e80694d18a39933736f8ec2ee",
      "7a0bfe5eec2d42ef9179262514e91165",
      "c9074a4cd34248caa90de0b44d9010d8",
      "1aef059d40b845b1b52467ea6f146e28",
      "49d2576f6a7642ee9c4d19e23809b92b",
      "5cd0c2fbf2ce425cb4f6589acda0d598",
      "0e8b6e30f4734673b70ef80ed4b4e789",
      "204336d466d549a6a4ce425c85b88e03",
      "e90674602942465aa267a68d7f0a0aca",
      "8c799500c1244898a3d92ab5bb617e93",
      "0f60985428eb44d39a34bdf9459570f8",
      "3ae1bbe07db6452899684f717a647c76",
      "49961c3aaeaf45479cc6725112ac686f",
      "8818e4f7c7994267b701f5027368a61f",
      "21d1b664eabf48f2a938603b0d7a2bc7",
      "8a71fb2071e948968463319116760006",
      "a67b350ff6a240ca98642386ee9b0b03",
      "9483de366a36408a813a29d14ef1621b",
      "e6e39223c0124cd4bfc294d2ddbb7aac",
      "3374f46fbf5f4397b634f7fd8ee5f124",
      "387ebefdfe134e40a5b1fa8f0e128a70",
      "a3abb5fd4b7c4013b66bcb059cf8acec",
      "f0f8395806cc474290ad0cb48cb1a9b8",
      "08d2dc71902f41d3914905320b0793e2",
      "3e445eff967047e896fb5bb4d4e034eb",
      "88fa9efa62024cc59ee2beb408459f8b",
      "4e5182cf2f6c4500b3fd8e4ce610d5ac",
      "d2633b1d971e47a6812b4226e2340ccb",
      "24fb873c03c541768129ed2e0ddab382",
      "93aac1823a0643c2b287c28683525181"
     ]
    },
    "executionInfo": {
     "elapsed": 232584,
     "status": "ok",
     "timestamp": 1714249614682,
     "user": {
      "displayName": "M4tin gh",
      "userId": "02703429734831119402"
     },
     "user_tz": -210
    },
    "id": "5We5MqEjLVxW",
    "outputId": "2be8e9cc-e2c9-4892-974a-b3a401d52da1"
   },
   "outputs": [
    {
     "data": {
      "application/vnd.jupyter.widget-view+json": {
       "model_id": "1cf2a631b4ab42c5aacfe5640528a436",
       "version_major": 2,
       "version_minor": 0
      },
      "text/plain": [
       "Loading pipeline components...:   0%|          | 0/7 [00:00<?, ?it/s]"
      ]
     },
     "metadata": {},
     "output_type": "display_data"
    },
    {
     "data": {
      "application/vnd.jupyter.widget-view+json": {
       "model_id": "e68340aff01a4cb5817787969e640fd3",
       "version_major": 2,
       "version_minor": 0
      },
      "text/plain": [
       "  0%|          | 0/50 [00:00<?, ?it/s]"
      ]
     },
     "metadata": {},
     "output_type": "display_data"
    },
    {
     "name": "stdout",
     "output_type": "stream",
     "text": [
      "Image 1_1 saved: output_images/image_1_1.png\n",
      "Image 1_2 saved: output_images/image_1_2.png\n",
      "Image 1_3 saved: output_images/image_1_3.png\n"
     ]
    },
    {
     "data": {
      "application/vnd.jupyter.widget-view+json": {
       "model_id": "e90674602942465aa267a68d7f0a0aca",
       "version_major": 2,
       "version_minor": 0
      },
      "text/plain": [
       "  0%|          | 0/50 [00:00<?, ?it/s]"
      ]
     },
     "metadata": {},
     "output_type": "display_data"
    },
    {
     "name": "stdout",
     "output_type": "stream",
     "text": [
      "Image 2_1 saved: output_images/image_2_1.png\n",
      "Image 2_2 saved: output_images/image_2_2.png\n",
      "Image 2_3 saved: output_images/image_2_3.png\n"
     ]
    },
    {
     "data": {
      "application/vnd.jupyter.widget-view+json": {
       "model_id": "3374f46fbf5f4397b634f7fd8ee5f124",
       "version_major": 2,
       "version_minor": 0
      },
      "text/plain": [
       "  0%|          | 0/50 [00:00<?, ?it/s]"
      ]
     },
     "metadata": {},
     "output_type": "display_data"
    },
    {
     "name": "stdout",
     "output_type": "stream",
     "text": [
      "Image 3_1 saved: output_images/image_3_1.png\n",
      "Image 3_2 saved: output_images/image_3_2.png\n",
      "Image 3_3 saved: output_images/image_3_3.png\n"
     ]
    }
   ],
   "source": [
    "import re\n",
    "from diffusers import StableDiffusionPipeline\n",
    "import os\n",
    "\n",
    "prompts = re.split(r'[.]', text)\n",
    "prompts = [s.strip() for s in prompts if s.strip()]\n",
    "\n",
    "output_dir = \"output_images\"\n",
    "os.makedirs(output_dir, exist_ok=True)\n",
    "\n",
    "\n",
    "pipe = StableDiffusionPipeline.from_pretrained(\"runwayml/stable-diffusion-v1-5\")\n",
    "pipe = pipe.to(\"cuda\")\n",
    "\n",
    "\n",
    "for i, prompt in enumerate(prompts):\n",
    "    if prompt.strip():\n",
    "        images = pipe(prompt.strip(), num_images_per_prompt=3, num_steps=1).images\n",
    "\n",
    "        for j, image in enumerate(images):\n",
    "            image_path = os.path.join(output_dir, f\"image_{i+1}_{j+1}.png\")\n",
    "            image.save(image_path)\n",
    "            print(f\"Image {i+1}_{j+1} saved: {image_path}\")\n"
   ]
  }
 ],
 "metadata": {
  "accelerator": "GPU",
  "colab": {
   "gpuType": "T4",
   "provenance": [
    {
     "file_id": "https://github.com/m4tingh/matin-task/blob/main/task.ipynb",
     "timestamp": 1714199336272
    }
   ]
  },
  "kernelspec": {
   "display_name": "Python 3 (ipykernel)",
   "language": "python",
   "name": "python3"
  },
  "language_info": {
   "codemirror_mode": {
    "name": "ipython",
    "version": 3
   },
   "file_extension": ".py",
   "mimetype": "text/x-python",
   "name": "python",
   "nbconvert_exporter": "python",
   "pygments_lexer": "ipython3",
   "version": "3.11.5"
  },
  "widgets": {
   "application/vnd.jupyter.widget-state+json": {
    "08d2dc71902f41d3914905320b0793e2": {
     "model_module": "@jupyter-widgets/base",
     "model_module_version": "1.2.0",
     "model_name": "LayoutModel",
     "state": {
      "_model_module": "@jupyter-widgets/base",
      "_model_module_version": "1.2.0",
      "_model_name": "LayoutModel",
      "_view_count": null,
      "_view_module": "@jupyter-widgets/base",
      "_view_module_version": "1.2.0",
      "_view_name": "LayoutView",
      "align_content": null,
      "align_items": null,
      "align_self": null,
      "border": null,
      "bottom": null,
      "display": null,
      "flex": null,
      "flex_flow": null,
      "grid_area": null,
      "grid_auto_columns": null,
      "grid_auto_flow": null,
      "grid_auto_rows": null,
      "grid_column": null,
      "grid_gap": null,
      "grid_row": null,
      "grid_template_areas": null,
      "grid_template_columns": null,
      "grid_template_rows": null,
      "height": null,
      "justify_content": null,
      "justify_items": null,
      "left": null,
      "margin": null,
      "max_height": null,
      "max_width": null,
      "min_height": null,
      "min_width": null,
      "object_fit": null,
      "object_position": null,
      "order": null,
      "overflow": null,
      "overflow_x": null,
      "overflow_y": null,
      "padding": null,
      "right": null,
      "top": null,
      "visibility": null,
      "width": null
     }
    },
    "0e8b6e30f4734673b70ef80ed4b4e789": {
     "model_module": "@jupyter-widgets/base",
     "model_module_version": "1.2.0",
     "model_name": "LayoutModel",
     "state": {
      "_model_module": "@jupyter-widgets/base",
      "_model_module_version": "1.2.0",
      "_model_name": "LayoutModel",
      "_view_count": null,
      "_view_module": "@jupyter-widgets/base",
      "_view_module_version": "1.2.0",
      "_view_name": "LayoutView",
      "align_content": null,
      "align_items": null,
      "align_self": null,
      "border": null,
      "bottom": null,
      "display": null,
      "flex": null,
      "flex_flow": null,
      "grid_area": null,
      "grid_auto_columns": null,
      "grid_auto_flow": null,
      "grid_auto_rows": null,
      "grid_column": null,
      "grid_gap": null,
      "grid_row": null,
      "grid_template_areas": null,
      "grid_template_columns": null,
      "grid_template_rows": null,
      "height": null,
      "justify_content": null,
      "justify_items": null,
      "left": null,
      "margin": null,
      "max_height": null,
      "max_width": null,
      "min_height": null,
      "min_width": null,
      "object_fit": null,
      "object_position": null,
      "order": null,
      "overflow": null,
      "overflow_x": null,
      "overflow_y": null,
      "padding": null,
      "right": null,
      "top": null,
      "visibility": null,
      "width": null
     }
    },
    "0f60985428eb44d39a34bdf9459570f8": {
     "model_module": "@jupyter-widgets/controls",
     "model_module_version": "1.5.0",
     "model_name": "FloatProgressModel",
     "state": {
      "_dom_classes": [],
      "_model_module": "@jupyter-widgets/controls",
      "_model_module_version": "1.5.0",
      "_model_name": "FloatProgressModel",
      "_view_count": null,
      "_view_module": "@jupyter-widgets/controls",
      "_view_module_version": "1.5.0",
      "_view_name": "ProgressView",
      "bar_style": "success",
      "description": "",
      "description_tooltip": null,
      "layout": "IPY_MODEL_8a71fb2071e948968463319116760006",
      "max": 50,
      "min": 0,
      "orientation": "horizontal",
      "style": "IPY_MODEL_a67b350ff6a240ca98642386ee9b0b03",
      "value": 50
     }
    },
    "1aef059d40b845b1b52467ea6f146e28": {
     "model_module": "@jupyter-widgets/controls",
     "model_module_version": "1.5.0",
     "model_name": "DescriptionStyleModel",
     "state": {
      "_model_module": "@jupyter-widgets/controls",
      "_model_module_version": "1.5.0",
      "_model_name": "DescriptionStyleModel",
      "_view_count": null,
      "_view_module": "@jupyter-widgets/base",
      "_view_module_version": "1.2.0",
      "_view_name": "StyleView",
      "description_width": ""
     }
    },
    "1cf2a631b4ab42c5aacfe5640528a436": {
     "model_module": "@jupyter-widgets/controls",
     "model_module_version": "1.5.0",
     "model_name": "HBoxModel",
     "state": {
      "_dom_classes": [],
      "_model_module": "@jupyter-widgets/controls",
      "_model_module_version": "1.5.0",
      "_model_name": "HBoxModel",
      "_view_count": null,
      "_view_module": "@jupyter-widgets/controls",
      "_view_module_version": "1.5.0",
      "_view_name": "HBoxView",
      "box_style": "",
      "children": [
       "IPY_MODEL_cddf443ab9c84ab3a7ca89428e58a86d",
       "IPY_MODEL_c5e32b7c81fe456d93686768517447a5",
       "IPY_MODEL_20452ecff1274d678fc50ebb981c4436"
      ],
      "layout": "IPY_MODEL_24ef0c4e948b4b568aa141d9d616fde9"
     }
    },
    "204336d466d549a6a4ce425c85b88e03": {
     "model_module": "@jupyter-widgets/controls",
     "model_module_version": "1.5.0",
     "model_name": "DescriptionStyleModel",
     "state": {
      "_model_module": "@jupyter-widgets/controls",
      "_model_module_version": "1.5.0",
      "_model_name": "DescriptionStyleModel",
      "_view_count": null,
      "_view_module": "@jupyter-widgets/base",
      "_view_module_version": "1.2.0",
      "_view_name": "StyleView",
      "description_width": ""
     }
    },
    "20452ecff1274d678fc50ebb981c4436": {
     "model_module": "@jupyter-widgets/controls",
     "model_module_version": "1.5.0",
     "model_name": "HTMLModel",
     "state": {
      "_dom_classes": [],
      "_model_module": "@jupyter-widgets/controls",
      "_model_module_version": "1.5.0",
      "_model_name": "HTMLModel",
      "_view_count": null,
      "_view_module": "@jupyter-widgets/controls",
      "_view_module_version": "1.5.0",
      "_view_name": "HTMLView",
      "description": "",
      "description_tooltip": null,
      "layout": "IPY_MODEL_6e4fd42e91094263ab30e39443f3d2ad",
      "placeholder": "​",
      "style": "IPY_MODEL_96acebea0b2f418480823d7f5bcf3277",
      "value": " 7/7 [00:01&lt;00:00,  3.21it/s]"
     }
    },
    "21d1b664eabf48f2a938603b0d7a2bc7": {
     "model_module": "@jupyter-widgets/controls",
     "model_module_version": "1.5.0",
     "model_name": "DescriptionStyleModel",
     "state": {
      "_model_module": "@jupyter-widgets/controls",
      "_model_module_version": "1.5.0",
      "_model_name": "DescriptionStyleModel",
      "_view_count": null,
      "_view_module": "@jupyter-widgets/base",
      "_view_module_version": "1.2.0",
      "_view_name": "StyleView",
      "description_width": ""
     }
    },
    "24ef0c4e948b4b568aa141d9d616fde9": {
     "model_module": "@jupyter-widgets/base",
     "model_module_version": "1.2.0",
     "model_name": "LayoutModel",
     "state": {
      "_model_module": "@jupyter-widgets/base",
      "_model_module_version": "1.2.0",
      "_model_name": "LayoutModel",
      "_view_count": null,
      "_view_module": "@jupyter-widgets/base",
      "_view_module_version": "1.2.0",
      "_view_name": "LayoutView",
      "align_content": null,
      "align_items": null,
      "align_self": null,
      "border": null,
      "bottom": null,
      "display": null,
      "flex": null,
      "flex_flow": null,
      "grid_area": null,
      "grid_auto_columns": null,
      "grid_auto_flow": null,
      "grid_auto_rows": null,
      "grid_column": null,
      "grid_gap": null,
      "grid_row": null,
      "grid_template_areas": null,
      "grid_template_columns": null,
      "grid_template_rows": null,
      "height": null,
      "justify_content": null,
      "justify_items": null,
      "left": null,
      "margin": null,
      "max_height": null,
      "max_width": null,
      "min_height": null,
      "min_width": null,
      "object_fit": null,
      "object_position": null,
      "order": null,
      "overflow": null,
      "overflow_x": null,
      "overflow_y": null,
      "padding": null,
      "right": null,
      "top": null,
      "visibility": null,
      "width": null
     }
    },
    "24fb873c03c541768129ed2e0ddab382": {
     "model_module": "@jupyter-widgets/base",
     "model_module_version": "1.2.0",
     "model_name": "LayoutModel",
     "state": {
      "_model_module": "@jupyter-widgets/base",
      "_model_module_version": "1.2.0",
      "_model_name": "LayoutModel",
      "_view_count": null,
      "_view_module": "@jupyter-widgets/base",
      "_view_module_version": "1.2.0",
      "_view_name": "LayoutView",
      "align_content": null,
      "align_items": null,
      "align_self": null,
      "border": null,
      "bottom": null,
      "display": null,
      "flex": null,
      "flex_flow": null,
      "grid_area": null,
      "grid_auto_columns": null,
      "grid_auto_flow": null,
      "grid_auto_rows": null,
      "grid_column": null,
      "grid_gap": null,
      "grid_row": null,
      "grid_template_areas": null,
      "grid_template_columns": null,
      "grid_template_rows": null,
      "height": null,
      "justify_content": null,
      "justify_items": null,
      "left": null,
      "margin": null,
      "max_height": null,
      "max_width": null,
      "min_height": null,
      "min_width": null,
      "object_fit": null,
      "object_position": null,
      "order": null,
      "overflow": null,
      "overflow_x": null,
      "overflow_y": null,
      "padding": null,
      "right": null,
      "top": null,
      "visibility": null,
      "width": null
     }
    },
    "3374f46fbf5f4397b634f7fd8ee5f124": {
     "model_module": "@jupyter-widgets/controls",
     "model_module_version": "1.5.0",
     "model_name": "HBoxModel",
     "state": {
      "_dom_classes": [],
      "_model_module": "@jupyter-widgets/controls",
      "_model_module_version": "1.5.0",
      "_model_name": "HBoxModel",
      "_view_count": null,
      "_view_module": "@jupyter-widgets/controls",
      "_view_module_version": "1.5.0",
      "_view_name": "HBoxView",
      "box_style": "",
      "children": [
       "IPY_MODEL_387ebefdfe134e40a5b1fa8f0e128a70",
       "IPY_MODEL_a3abb5fd4b7c4013b66bcb059cf8acec",
       "IPY_MODEL_f0f8395806cc474290ad0cb48cb1a9b8"
      ],
      "layout": "IPY_MODEL_08d2dc71902f41d3914905320b0793e2"
     }
    },
    "387ebefdfe134e40a5b1fa8f0e128a70": {
     "model_module": "@jupyter-widgets/controls",
     "model_module_version": "1.5.0",
     "model_name": "HTMLModel",
     "state": {
      "_dom_classes": [],
      "_model_module": "@jupyter-widgets/controls",
      "_model_module_version": "1.5.0",
      "_model_name": "HTMLModel",
      "_view_count": null,
      "_view_module": "@jupyter-widgets/controls",
      "_view_module_version": "1.5.0",
      "_view_name": "HTMLView",
      "description": "",
      "description_tooltip": null,
      "layout": "IPY_MODEL_3e445eff967047e896fb5bb4d4e034eb",
      "placeholder": "​",
      "style": "IPY_MODEL_88fa9efa62024cc59ee2beb408459f8b",
      "value": "100%"
     }
    },
    "3ae1bbe07db6452899684f717a647c76": {
     "model_module": "@jupyter-widgets/controls",
     "model_module_version": "1.5.0",
     "model_name": "HTMLModel",
     "state": {
      "_dom_classes": [],
      "_model_module": "@jupyter-widgets/controls",
      "_model_module_version": "1.5.0",
      "_model_name": "HTMLModel",
      "_view_count": null,
      "_view_module": "@jupyter-widgets/controls",
      "_view_module_version": "1.5.0",
      "_view_name": "HTMLView",
      "description": "",
      "description_tooltip": null,
      "layout": "IPY_MODEL_9483de366a36408a813a29d14ef1621b",
      "placeholder": "​",
      "style": "IPY_MODEL_e6e39223c0124cd4bfc294d2ddbb7aac",
      "value": " 50/50 [01:13&lt;00:00,  1.43s/it]"
     }
    },
    "3e445eff967047e896fb5bb4d4e034eb": {
     "model_module": "@jupyter-widgets/base",
     "model_module_version": "1.2.0",
     "model_name": "LayoutModel",
     "state": {
      "_model_module": "@jupyter-widgets/base",
      "_model_module_version": "1.2.0",
      "_model_name": "LayoutModel",
      "_view_count": null,
      "_view_module": "@jupyter-widgets/base",
      "_view_module_version": "1.2.0",
      "_view_name": "LayoutView",
      "align_content": null,
      "align_items": null,
      "align_self": null,
      "border": null,
      "bottom": null,
      "display": null,
      "flex": null,
      "flex_flow": null,
      "grid_area": null,
      "grid_auto_columns": null,
      "grid_auto_flow": null,
      "grid_auto_rows": null,
      "grid_column": null,
      "grid_gap": null,
      "grid_row": null,
      "grid_template_areas": null,
      "grid_template_columns": null,
      "grid_template_rows": null,
      "height": null,
      "justify_content": null,
      "justify_items": null,
      "left": null,
      "margin": null,
      "max_height": null,
      "max_width": null,
      "min_height": null,
      "min_width": null,
      "object_fit": null,
      "object_position": null,
      "order": null,
      "overflow": null,
      "overflow_x": null,
      "overflow_y": null,
      "padding": null,
      "right": null,
      "top": null,
      "visibility": null,
      "width": null
     }
    },
    "49961c3aaeaf45479cc6725112ac686f": {
     "model_module": "@jupyter-widgets/base",
     "model_module_version": "1.2.0",
     "model_name": "LayoutModel",
     "state": {
      "_model_module": "@jupyter-widgets/base",
      "_model_module_version": "1.2.0",
      "_model_name": "LayoutModel",
      "_view_count": null,
      "_view_module": "@jupyter-widgets/base",
      "_view_module_version": "1.2.0",
      "_view_name": "LayoutView",
      "align_content": null,
      "align_items": null,
      "align_self": null,
      "border": null,
      "bottom": null,
      "display": null,
      "flex": null,
      "flex_flow": null,
      "grid_area": null,
      "grid_auto_columns": null,
      "grid_auto_flow": null,
      "grid_auto_rows": null,
      "grid_column": null,
      "grid_gap": null,
      "grid_row": null,
      "grid_template_areas": null,
      "grid_template_columns": null,
      "grid_template_rows": null,
      "height": null,
      "justify_content": null,
      "justify_items": null,
      "left": null,
      "margin": null,
      "max_height": null,
      "max_width": null,
      "min_height": null,
      "min_width": null,
      "object_fit": null,
      "object_position": null,
      "order": null,
      "overflow": null,
      "overflow_x": null,
      "overflow_y": null,
      "padding": null,
      "right": null,
      "top": null,
      "visibility": null,
      "width": null
     }
    },
    "49d2576f6a7642ee9c4d19e23809b92b": {
     "model_module": "@jupyter-widgets/base",
     "model_module_version": "1.2.0",
     "model_name": "LayoutModel",
     "state": {
      "_model_module": "@jupyter-widgets/base",
      "_model_module_version": "1.2.0",
      "_model_name": "LayoutModel",
      "_view_count": null,
      "_view_module": "@jupyter-widgets/base",
      "_view_module_version": "1.2.0",
      "_view_name": "LayoutView",
      "align_content": null,
      "align_items": null,
      "align_self": null,
      "border": null,
      "bottom": null,
      "display": null,
      "flex": null,
      "flex_flow": null,
      "grid_area": null,
      "grid_auto_columns": null,
      "grid_auto_flow": null,
      "grid_auto_rows": null,
      "grid_column": null,
      "grid_gap": null,
      "grid_row": null,
      "grid_template_areas": null,
      "grid_template_columns": null,
      "grid_template_rows": null,
      "height": null,
      "justify_content": null,
      "justify_items": null,
      "left": null,
      "margin": null,
      "max_height": null,
      "max_width": null,
      "min_height": null,
      "min_width": null,
      "object_fit": null,
      "object_position": null,
      "order": null,
      "overflow": null,
      "overflow_x": null,
      "overflow_y": null,
      "padding": null,
      "right": null,
      "top": null,
      "visibility": null,
      "width": null
     }
    },
    "4e5182cf2f6c4500b3fd8e4ce610d5ac": {
     "model_module": "@jupyter-widgets/base",
     "model_module_version": "1.2.0",
     "model_name": "LayoutModel",
     "state": {
      "_model_module": "@jupyter-widgets/base",
      "_model_module_version": "1.2.0",
      "_model_name": "LayoutModel",
      "_view_count": null,
      "_view_module": "@jupyter-widgets/base",
      "_view_module_version": "1.2.0",
      "_view_name": "LayoutView",
      "align_content": null,
      "align_items": null,
      "align_self": null,
      "border": null,
      "bottom": null,
      "display": null,
      "flex": null,
      "flex_flow": null,
      "grid_area": null,
      "grid_auto_columns": null,
      "grid_auto_flow": null,
      "grid_auto_rows": null,
      "grid_column": null,
      "grid_gap": null,
      "grid_row": null,
      "grid_template_areas": null,
      "grid_template_columns": null,
      "grid_template_rows": null,
      "height": null,
      "justify_content": null,
      "justify_items": null,
      "left": null,
      "margin": null,
      "max_height": null,
      "max_width": null,
      "min_height": null,
      "min_width": null,
      "object_fit": null,
      "object_position": null,
      "order": null,
      "overflow": null,
      "overflow_x": null,
      "overflow_y": null,
      "padding": null,
      "right": null,
      "top": null,
      "visibility": null,
      "width": null
     }
    },
    "5546aee6dd014cfc96047f367f065947": {
     "model_module": "@jupyter-widgets/controls",
     "model_module_version": "1.5.0",
     "model_name": "HTMLModel",
     "state": {
      "_dom_classes": [],
      "_model_module": "@jupyter-widgets/controls",
      "_model_module_version": "1.5.0",
      "_model_name": "HTMLModel",
      "_view_count": null,
      "_view_module": "@jupyter-widgets/controls",
      "_view_module_version": "1.5.0",
      "_view_name": "HTMLView",
      "description": "",
      "description_tooltip": null,
      "layout": "IPY_MODEL_c9074a4cd34248caa90de0b44d9010d8",
      "placeholder": "​",
      "style": "IPY_MODEL_1aef059d40b845b1b52467ea6f146e28",
      "value": "100%"
     }
    },
    "56fa2700f55142d586f570ccdbf8e101": {
     "model_module": "@jupyter-widgets/controls",
     "model_module_version": "1.5.0",
     "model_name": "FloatProgressModel",
     "state": {
      "_dom_classes": [],
      "_model_module": "@jupyter-widgets/controls",
      "_model_module_version": "1.5.0",
      "_model_name": "FloatProgressModel",
      "_view_count": null,
      "_view_module": "@jupyter-widgets/controls",
      "_view_module_version": "1.5.0",
      "_view_name": "ProgressView",
      "bar_style": "success",
      "description": "",
      "description_tooltip": null,
      "layout": "IPY_MODEL_49d2576f6a7642ee9c4d19e23809b92b",
      "max": 50,
      "min": 0,
      "orientation": "horizontal",
      "style": "IPY_MODEL_5cd0c2fbf2ce425cb4f6589acda0d598",
      "value": 50
     }
    },
    "5cd0c2fbf2ce425cb4f6589acda0d598": {
     "model_module": "@jupyter-widgets/controls",
     "model_module_version": "1.5.0",
     "model_name": "ProgressStyleModel",
     "state": {
      "_model_module": "@jupyter-widgets/controls",
      "_model_module_version": "1.5.0",
      "_model_name": "ProgressStyleModel",
      "_view_count": null,
      "_view_module": "@jupyter-widgets/base",
      "_view_module_version": "1.2.0",
      "_view_name": "StyleView",
      "bar_color": null,
      "description_width": ""
     }
    },
    "5d0ff8fdf74e45929c92bb7dfd4c4efb": {
     "model_module": "@jupyter-widgets/controls",
     "model_module_version": "1.5.0",
     "model_name": "DescriptionStyleModel",
     "state": {
      "_model_module": "@jupyter-widgets/controls",
      "_model_module_version": "1.5.0",
      "_model_name": "DescriptionStyleModel",
      "_view_count": null,
      "_view_module": "@jupyter-widgets/base",
      "_view_module_version": "1.2.0",
      "_view_name": "StyleView",
      "description_width": ""
     }
    },
    "62ca10ca4f4f4c59af5733929d320f0c": {
     "model_module": "@jupyter-widgets/controls",
     "model_module_version": "1.5.0",
     "model_name": "ProgressStyleModel",
     "state": {
      "_model_module": "@jupyter-widgets/controls",
      "_model_module_version": "1.5.0",
      "_model_name": "ProgressStyleModel",
      "_view_count": null,
      "_view_module": "@jupyter-widgets/base",
      "_view_module_version": "1.2.0",
      "_view_name": "StyleView",
      "bar_color": null,
      "description_width": ""
     }
    },
    "69c7960bb994453898a3ca4fd67def74": {
     "model_module": "@jupyter-widgets/base",
     "model_module_version": "1.2.0",
     "model_name": "LayoutModel",
     "state": {
      "_model_module": "@jupyter-widgets/base",
      "_model_module_version": "1.2.0",
      "_model_name": "LayoutModel",
      "_view_count": null,
      "_view_module": "@jupyter-widgets/base",
      "_view_module_version": "1.2.0",
      "_view_name": "LayoutView",
      "align_content": null,
      "align_items": null,
      "align_self": null,
      "border": null,
      "bottom": null,
      "display": null,
      "flex": null,
      "flex_flow": null,
      "grid_area": null,
      "grid_auto_columns": null,
      "grid_auto_flow": null,
      "grid_auto_rows": null,
      "grid_column": null,
      "grid_gap": null,
      "grid_row": null,
      "grid_template_areas": null,
      "grid_template_columns": null,
      "grid_template_rows": null,
      "height": null,
      "justify_content": null,
      "justify_items": null,
      "left": null,
      "margin": null,
      "max_height": null,
      "max_width": null,
      "min_height": null,
      "min_width": null,
      "object_fit": null,
      "object_position": null,
      "order": null,
      "overflow": null,
      "overflow_x": null,
      "overflow_y": null,
      "padding": null,
      "right": null,
      "top": null,
      "visibility": null,
      "width": null
     }
    },
    "6e4fd42e91094263ab30e39443f3d2ad": {
     "model_module": "@jupyter-widgets/base",
     "model_module_version": "1.2.0",
     "model_name": "LayoutModel",
     "state": {
      "_model_module": "@jupyter-widgets/base",
      "_model_module_version": "1.2.0",
      "_model_name": "LayoutModel",
      "_view_count": null,
      "_view_module": "@jupyter-widgets/base",
      "_view_module_version": "1.2.0",
      "_view_name": "LayoutView",
      "align_content": null,
      "align_items": null,
      "align_self": null,
      "border": null,
      "bottom": null,
      "display": null,
      "flex": null,
      "flex_flow": null,
      "grid_area": null,
      "grid_auto_columns": null,
      "grid_auto_flow": null,
      "grid_auto_rows": null,
      "grid_column": null,
      "grid_gap": null,
      "grid_row": null,
      "grid_template_areas": null,
      "grid_template_columns": null,
      "grid_template_rows": null,
      "height": null,
      "justify_content": null,
      "justify_items": null,
      "left": null,
      "margin": null,
      "max_height": null,
      "max_width": null,
      "min_height": null,
      "min_width": null,
      "object_fit": null,
      "object_position": null,
      "order": null,
      "overflow": null,
      "overflow_x": null,
      "overflow_y": null,
      "padding": null,
      "right": null,
      "top": null,
      "visibility": null,
      "width": null
     }
    },
    "7a0bfe5eec2d42ef9179262514e91165": {
     "model_module": "@jupyter-widgets/base",
     "model_module_version": "1.2.0",
     "model_name": "LayoutModel",
     "state": {
      "_model_module": "@jupyter-widgets/base",
      "_model_module_version": "1.2.0",
      "_model_name": "LayoutModel",
      "_view_count": null,
      "_view_module": "@jupyter-widgets/base",
      "_view_module_version": "1.2.0",
      "_view_name": "LayoutView",
      "align_content": null,
      "align_items": null,
      "align_self": null,
      "border": null,
      "bottom": null,
      "display": null,
      "flex": null,
      "flex_flow": null,
      "grid_area": null,
      "grid_auto_columns": null,
      "grid_auto_flow": null,
      "grid_auto_rows": null,
      "grid_column": null,
      "grid_gap": null,
      "grid_row": null,
      "grid_template_areas": null,
      "grid_template_columns": null,
      "grid_template_rows": null,
      "height": null,
      "justify_content": null,
      "justify_items": null,
      "left": null,
      "margin": null,
      "max_height": null,
      "max_width": null,
      "min_height": null,
      "min_width": null,
      "object_fit": null,
      "object_position": null,
      "order": null,
      "overflow": null,
      "overflow_x": null,
      "overflow_y": null,
      "padding": null,
      "right": null,
      "top": null,
      "visibility": null,
      "width": null
     }
    },
    "8818e4f7c7994267b701f5027368a61f": {
     "model_module": "@jupyter-widgets/base",
     "model_module_version": "1.2.0",
     "model_name": "LayoutModel",
     "state": {
      "_model_module": "@jupyter-widgets/base",
      "_model_module_version": "1.2.0",
      "_model_name": "LayoutModel",
      "_view_count": null,
      "_view_module": "@jupyter-widgets/base",
      "_view_module_version": "1.2.0",
      "_view_name": "LayoutView",
      "align_content": null,
      "align_items": null,
      "align_self": null,
      "border": null,
      "bottom": null,
      "display": null,
      "flex": null,
      "flex_flow": null,
      "grid_area": null,
      "grid_auto_columns": null,
      "grid_auto_flow": null,
      "grid_auto_rows": null,
      "grid_column": null,
      "grid_gap": null,
      "grid_row": null,
      "grid_template_areas": null,
      "grid_template_columns": null,
      "grid_template_rows": null,
      "height": null,
      "justify_content": null,
      "justify_items": null,
      "left": null,
      "margin": null,
      "max_height": null,
      "max_width": null,
      "min_height": null,
      "min_width": null,
      "object_fit": null,
      "object_position": null,
      "order": null,
      "overflow": null,
      "overflow_x": null,
      "overflow_y": null,
      "padding": null,
      "right": null,
      "top": null,
      "visibility": null,
      "width": null
     }
    },
    "88fa9efa62024cc59ee2beb408459f8b": {
     "model_module": "@jupyter-widgets/controls",
     "model_module_version": "1.5.0",
     "model_name": "DescriptionStyleModel",
     "state": {
      "_model_module": "@jupyter-widgets/controls",
      "_model_module_version": "1.5.0",
      "_model_name": "DescriptionStyleModel",
      "_view_count": null,
      "_view_module": "@jupyter-widgets/base",
      "_view_module_version": "1.2.0",
      "_view_name": "StyleView",
      "description_width": ""
     }
    },
    "89b2e1f367064d9090c5fb56acefc0ae": {
     "model_module": "@jupyter-widgets/base",
     "model_module_version": "1.2.0",
     "model_name": "LayoutModel",
     "state": {
      "_model_module": "@jupyter-widgets/base",
      "_model_module_version": "1.2.0",
      "_model_name": "LayoutModel",
      "_view_count": null,
      "_view_module": "@jupyter-widgets/base",
      "_view_module_version": "1.2.0",
      "_view_name": "LayoutView",
      "align_content": null,
      "align_items": null,
      "align_self": null,
      "border": null,
      "bottom": null,
      "display": null,
      "flex": null,
      "flex_flow": null,
      "grid_area": null,
      "grid_auto_columns": null,
      "grid_auto_flow": null,
      "grid_auto_rows": null,
      "grid_column": null,
      "grid_gap": null,
      "grid_row": null,
      "grid_template_areas": null,
      "grid_template_columns": null,
      "grid_template_rows": null,
      "height": null,
      "justify_content": null,
      "justify_items": null,
      "left": null,
      "margin": null,
      "max_height": null,
      "max_width": null,
      "min_height": null,
      "min_width": null,
      "object_fit": null,
      "object_position": null,
      "order": null,
      "overflow": null,
      "overflow_x": null,
      "overflow_y": null,
      "padding": null,
      "right": null,
      "top": null,
      "visibility": null,
      "width": null
     }
    },
    "8a71fb2071e948968463319116760006": {
     "model_module": "@jupyter-widgets/base",
     "model_module_version": "1.2.0",
     "model_name": "LayoutModel",
     "state": {
      "_model_module": "@jupyter-widgets/base",
      "_model_module_version": "1.2.0",
      "_model_name": "LayoutModel",
      "_view_count": null,
      "_view_module": "@jupyter-widgets/base",
      "_view_module_version": "1.2.0",
      "_view_name": "LayoutView",
      "align_content": null,
      "align_items": null,
      "align_self": null,
      "border": null,
      "bottom": null,
      "display": null,
      "flex": null,
      "flex_flow": null,
      "grid_area": null,
      "grid_auto_columns": null,
      "grid_auto_flow": null,
      "grid_auto_rows": null,
      "grid_column": null,
      "grid_gap": null,
      "grid_row": null,
      "grid_template_areas": null,
      "grid_template_columns": null,
      "grid_template_rows": null,
      "height": null,
      "justify_content": null,
      "justify_items": null,
      "left": null,
      "margin": null,
      "max_height": null,
      "max_width": null,
      "min_height": null,
      "min_width": null,
      "object_fit": null,
      "object_position": null,
      "order": null,
      "overflow": null,
      "overflow_x": null,
      "overflow_y": null,
      "padding": null,
      "right": null,
      "top": null,
      "visibility": null,
      "width": null
     }
    },
    "8c799500c1244898a3d92ab5bb617e93": {
     "model_module": "@jupyter-widgets/controls",
     "model_module_version": "1.5.0",
     "model_name": "HTMLModel",
     "state": {
      "_dom_classes": [],
      "_model_module": "@jupyter-widgets/controls",
      "_model_module_version": "1.5.0",
      "_model_name": "HTMLModel",
      "_view_count": null,
      "_view_module": "@jupyter-widgets/controls",
      "_view_module_version": "1.5.0",
      "_view_name": "HTMLView",
      "description": "",
      "description_tooltip": null,
      "layout": "IPY_MODEL_8818e4f7c7994267b701f5027368a61f",
      "placeholder": "​",
      "style": "IPY_MODEL_21d1b664eabf48f2a938603b0d7a2bc7",
      "value": "100%"
     }
    },
    "93aac1823a0643c2b287c28683525181": {
     "model_module": "@jupyter-widgets/controls",
     "model_module_version": "1.5.0",
     "model_name": "DescriptionStyleModel",
     "state": {
      "_model_module": "@jupyter-widgets/controls",
      "_model_module_version": "1.5.0",
      "_model_name": "DescriptionStyleModel",
      "_view_count": null,
      "_view_module": "@jupyter-widgets/base",
      "_view_module_version": "1.2.0",
      "_view_name": "StyleView",
      "description_width": ""
     }
    },
    "9483de366a36408a813a29d14ef1621b": {
     "model_module": "@jupyter-widgets/base",
     "model_module_version": "1.2.0",
     "model_name": "LayoutModel",
     "state": {
      "_model_module": "@jupyter-widgets/base",
      "_model_module_version": "1.2.0",
      "_model_name": "LayoutModel",
      "_view_count": null,
      "_view_module": "@jupyter-widgets/base",
      "_view_module_version": "1.2.0",
      "_view_name": "LayoutView",
      "align_content": null,
      "align_items": null,
      "align_self": null,
      "border": null,
      "bottom": null,
      "display": null,
      "flex": null,
      "flex_flow": null,
      "grid_area": null,
      "grid_auto_columns": null,
      "grid_auto_flow": null,
      "grid_auto_rows": null,
      "grid_column": null,
      "grid_gap": null,
      "grid_row": null,
      "grid_template_areas": null,
      "grid_template_columns": null,
      "grid_template_rows": null,
      "height": null,
      "justify_content": null,
      "justify_items": null,
      "left": null,
      "margin": null,
      "max_height": null,
      "max_width": null,
      "min_height": null,
      "min_width": null,
      "object_fit": null,
      "object_position": null,
      "order": null,
      "overflow": null,
      "overflow_x": null,
      "overflow_y": null,
      "padding": null,
      "right": null,
      "top": null,
      "visibility": null,
      "width": null
     }
    },
    "96acebea0b2f418480823d7f5bcf3277": {
     "model_module": "@jupyter-widgets/controls",
     "model_module_version": "1.5.0",
     "model_name": "DescriptionStyleModel",
     "state": {
      "_model_module": "@jupyter-widgets/controls",
      "_model_module_version": "1.5.0",
      "_model_name": "DescriptionStyleModel",
      "_view_count": null,
      "_view_module": "@jupyter-widgets/base",
      "_view_module_version": "1.2.0",
      "_view_name": "StyleView",
      "description_width": ""
     }
    },
    "a3abb5fd4b7c4013b66bcb059cf8acec": {
     "model_module": "@jupyter-widgets/controls",
     "model_module_version": "1.5.0",
     "model_name": "FloatProgressModel",
     "state": {
      "_dom_classes": [],
      "_model_module": "@jupyter-widgets/controls",
      "_model_module_version": "1.5.0",
      "_model_name": "FloatProgressModel",
      "_view_count": null,
      "_view_module": "@jupyter-widgets/controls",
      "_view_module_version": "1.5.0",
      "_view_name": "ProgressView",
      "bar_style": "success",
      "description": "",
      "description_tooltip": null,
      "layout": "IPY_MODEL_4e5182cf2f6c4500b3fd8e4ce610d5ac",
      "max": 50,
      "min": 0,
      "orientation": "horizontal",
      "style": "IPY_MODEL_d2633b1d971e47a6812b4226e2340ccb",
      "value": 50
     }
    },
    "a67b350ff6a240ca98642386ee9b0b03": {
     "model_module": "@jupyter-widgets/controls",
     "model_module_version": "1.5.0",
     "model_name": "ProgressStyleModel",
     "state": {
      "_model_module": "@jupyter-widgets/controls",
      "_model_module_version": "1.5.0",
      "_model_name": "ProgressStyleModel",
      "_view_count": null,
      "_view_module": "@jupyter-widgets/base",
      "_view_module_version": "1.2.0",
      "_view_name": "StyleView",
      "bar_color": null,
      "description_width": ""
     }
    },
    "c5e32b7c81fe456d93686768517447a5": {
     "model_module": "@jupyter-widgets/controls",
     "model_module_version": "1.5.0",
     "model_name": "FloatProgressModel",
     "state": {
      "_dom_classes": [],
      "_model_module": "@jupyter-widgets/controls",
      "_model_module_version": "1.5.0",
      "_model_name": "FloatProgressModel",
      "_view_count": null,
      "_view_module": "@jupyter-widgets/controls",
      "_view_module_version": "1.5.0",
      "_view_name": "ProgressView",
      "bar_style": "success",
      "description": "",
      "description_tooltip": null,
      "layout": "IPY_MODEL_89b2e1f367064d9090c5fb56acefc0ae",
      "max": 7,
      "min": 0,
      "orientation": "horizontal",
      "style": "IPY_MODEL_62ca10ca4f4f4c59af5733929d320f0c",
      "value": 7
     }
    },
    "c9074a4cd34248caa90de0b44d9010d8": {
     "model_module": "@jupyter-widgets/base",
     "model_module_version": "1.2.0",
     "model_name": "LayoutModel",
     "state": {
      "_model_module": "@jupyter-widgets/base",
      "_model_module_version": "1.2.0",
      "_model_name": "LayoutModel",
      "_view_count": null,
      "_view_module": "@jupyter-widgets/base",
      "_view_module_version": "1.2.0",
      "_view_name": "LayoutView",
      "align_content": null,
      "align_items": null,
      "align_self": null,
      "border": null,
      "bottom": null,
      "display": null,
      "flex": null,
      "flex_flow": null,
      "grid_area": null,
      "grid_auto_columns": null,
      "grid_auto_flow": null,
      "grid_auto_rows": null,
      "grid_column": null,
      "grid_gap": null,
      "grid_row": null,
      "grid_template_areas": null,
      "grid_template_columns": null,
      "grid_template_rows": null,
      "height": null,
      "justify_content": null,
      "justify_items": null,
      "left": null,
      "margin": null,
      "max_height": null,
      "max_width": null,
      "min_height": null,
      "min_width": null,
      "object_fit": null,
      "object_position": null,
      "order": null,
      "overflow": null,
      "overflow_x": null,
      "overflow_y": null,
      "padding": null,
      "right": null,
      "top": null,
      "visibility": null,
      "width": null
     }
    },
    "cddf443ab9c84ab3a7ca89428e58a86d": {
     "model_module": "@jupyter-widgets/controls",
     "model_module_version": "1.5.0",
     "model_name": "HTMLModel",
     "state": {
      "_dom_classes": [],
      "_model_module": "@jupyter-widgets/controls",
      "_model_module_version": "1.5.0",
      "_model_name": "HTMLModel",
      "_view_count": null,
      "_view_module": "@jupyter-widgets/controls",
      "_view_module_version": "1.5.0",
      "_view_name": "HTMLView",
      "description": "",
      "description_tooltip": null,
      "layout": "IPY_MODEL_69c7960bb994453898a3ca4fd67def74",
      "placeholder": "​",
      "style": "IPY_MODEL_5d0ff8fdf74e45929c92bb7dfd4c4efb",
      "value": "Loading pipeline components...: 100%"
     }
    },
    "d2633b1d971e47a6812b4226e2340ccb": {
     "model_module": "@jupyter-widgets/controls",
     "model_module_version": "1.5.0",
     "model_name": "ProgressStyleModel",
     "state": {
      "_model_module": "@jupyter-widgets/controls",
      "_model_module_version": "1.5.0",
      "_model_name": "ProgressStyleModel",
      "_view_count": null,
      "_view_module": "@jupyter-widgets/base",
      "_view_module_version": "1.2.0",
      "_view_name": "StyleView",
      "bar_color": null,
      "description_width": ""
     }
    },
    "e26b0e5e80694d18a39933736f8ec2ee": {
     "model_module": "@jupyter-widgets/controls",
     "model_module_version": "1.5.0",
     "model_name": "HTMLModel",
     "state": {
      "_dom_classes": [],
      "_model_module": "@jupyter-widgets/controls",
      "_model_module_version": "1.5.0",
      "_model_name": "HTMLModel",
      "_view_count": null,
      "_view_module": "@jupyter-widgets/controls",
      "_view_module_version": "1.5.0",
      "_view_name": "HTMLView",
      "description": "",
      "description_tooltip": null,
      "layout": "IPY_MODEL_0e8b6e30f4734673b70ef80ed4b4e789",
      "placeholder": "​",
      "style": "IPY_MODEL_204336d466d549a6a4ce425c85b88e03",
      "value": " 50/50 [01:13&lt;00:00,  1.40s/it]"
     }
    },
    "e68340aff01a4cb5817787969e640fd3": {
     "model_module": "@jupyter-widgets/controls",
     "model_module_version": "1.5.0",
     "model_name": "HBoxModel",
     "state": {
      "_dom_classes": [],
      "_model_module": "@jupyter-widgets/controls",
      "_model_module_version": "1.5.0",
      "_model_name": "HBoxModel",
      "_view_count": null,
      "_view_module": "@jupyter-widgets/controls",
      "_view_module_version": "1.5.0",
      "_view_name": "HBoxView",
      "box_style": "",
      "children": [
       "IPY_MODEL_5546aee6dd014cfc96047f367f065947",
       "IPY_MODEL_56fa2700f55142d586f570ccdbf8e101",
       "IPY_MODEL_e26b0e5e80694d18a39933736f8ec2ee"
      ],
      "layout": "IPY_MODEL_7a0bfe5eec2d42ef9179262514e91165"
     }
    },
    "e6e39223c0124cd4bfc294d2ddbb7aac": {
     "model_module": "@jupyter-widgets/controls",
     "model_module_version": "1.5.0",
     "model_name": "DescriptionStyleModel",
     "state": {
      "_model_module": "@jupyter-widgets/controls",
      "_model_module_version": "1.5.0",
      "_model_name": "DescriptionStyleModel",
      "_view_count": null,
      "_view_module": "@jupyter-widgets/base",
      "_view_module_version": "1.2.0",
      "_view_name": "StyleView",
      "description_width": ""
     }
    },
    "e90674602942465aa267a68d7f0a0aca": {
     "model_module": "@jupyter-widgets/controls",
     "model_module_version": "1.5.0",
     "model_name": "HBoxModel",
     "state": {
      "_dom_classes": [],
      "_model_module": "@jupyter-widgets/controls",
      "_model_module_version": "1.5.0",
      "_model_name": "HBoxModel",
      "_view_count": null,
      "_view_module": "@jupyter-widgets/controls",
      "_view_module_version": "1.5.0",
      "_view_name": "HBoxView",
      "box_style": "",
      "children": [
       "IPY_MODEL_8c799500c1244898a3d92ab5bb617e93",
       "IPY_MODEL_0f60985428eb44d39a34bdf9459570f8",
       "IPY_MODEL_3ae1bbe07db6452899684f717a647c76"
      ],
      "layout": "IPY_MODEL_49961c3aaeaf45479cc6725112ac686f"
     }
    },
    "f0f8395806cc474290ad0cb48cb1a9b8": {
     "model_module": "@jupyter-widgets/controls",
     "model_module_version": "1.5.0",
     "model_name": "HTMLModel",
     "state": {
      "_dom_classes": [],
      "_model_module": "@jupyter-widgets/controls",
      "_model_module_version": "1.5.0",
      "_model_name": "HTMLModel",
      "_view_count": null,
      "_view_module": "@jupyter-widgets/controls",
      "_view_module_version": "1.5.0",
      "_view_name": "HTMLView",
      "description": "",
      "description_tooltip": null,
      "layout": "IPY_MODEL_24fb873c03c541768129ed2e0ddab382",
      "placeholder": "​",
      "style": "IPY_MODEL_93aac1823a0643c2b287c28683525181",
      "value": " 50/50 [01:12&lt;00:00,  1.44s/it]"
     }
    }
   }
  }
 },
 "nbformat": 4,
 "nbformat_minor": 5
}

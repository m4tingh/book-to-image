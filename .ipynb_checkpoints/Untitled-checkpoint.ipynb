{
 "cells": [
  {
   "cell_type": "markdown",
   "id": "7c8ac9bb",
   "metadata": {},
   "source": [
    "# خواندن فایل"
   ]
  },
  {
   "cell_type": "code",
   "execution_count": 1,
   "id": "704671b9",
   "metadata": {},
   "outputs": [],
   "source": [
    "import pandas as pd"
   ]
  },
  {
   "cell_type": "code",
   "execution_count": 2,
   "id": "684734f7",
   "metadata": {},
   "outputs": [],
   "source": [
    "file_path = 'booksummaries.txt'\n",
    "\n",
    "with open(file_path, 'r', encoding='utf-8') as file:\n",
    "\n",
    "    content = file.read()\n",
    "data = pd.Series(content).dropna()\n",
    "datas = data.to_string()"
   ]
  },
  {
   "cell_type": "code",
   "execution_count": null,
   "id": "38d6ee08",
   "metadata": {},
   "outputs": [],
   "source": [
    "data.describe()\n",
    "data.head()\n",
    "data.info()"
   ]
  },
  {
   "cell_type": "markdown",
   "id": "602063a5",
   "metadata": {},
   "source": [
    "# NLTK"
   ]
  },
  {
   "cell_type": "code",
   "execution_count": null,
   "id": "7e7fdb73",
   "metadata": {},
   "outputs": [],
   "source": [
    "import nltk\n",
    "from nltk.corpus import stopwords\n",
    "from nltk.tokenize import word_tokenize, sent_tokenize\n",
    "nltk.download('punkt')\n",
    "nltk.download('stopwords')"
   ]
  },
  {
   "cell_type": "code",
   "execution_count": null,
   "id": "555e264a",
   "metadata": {},
   "outputs": [],
   "source": [
    "stopWords = set(stopwords.words(\"english\"))\n",
    "words = word_tokenize(content)\n",
    "\n",
    "freqTable = dict()\n",
    "for word in words:\n",
    "  word = word.lower()\n",
    "  if word in stopWords:\n",
    "    continue\n",
    "  if word in freqTable:\n",
    "    freqTable[word] += 1\n",
    "  else:\n",
    "    freqTable[word] = 1\n",
    "\n",
    "sentences = sent_tokenize(content)\n",
    "sentenceValue = dict()\n",
    "\n",
    "for sentence in sentences:\n",
    "    sentenceWords = word_tokenize(sentence)\n",
    "    sentenceFreq = sum([freqTable.get(word.lower(), 0) for word in sentenceWords])\n",
    "    sentenceValue[sentence] = sentenceFreq\n",
    "\n",
    "sumValues = sum(sentenceValue.values())\n",
    "average = sumValues / len(sentenceValue)\n",
    "\n",
    "summaryword = ' '.join([sentence for sentence, value in sentenceValue.items() if value > (1.2 * average)])"
   ]
  },
  {
   "cell_type": "markdown",
   "id": "3c3c0e1f",
   "metadata": {},
   "source": [
    "# T5"
   ]
  },
  {
   "cell_type": "code",
   "execution_count": null,
   "id": "600733dd",
   "metadata": {},
   "outputs": [],
   "source": [
    "import torch\n",
    "from transformers import AutoTokenizer, AutoModelWithLMHead\n",
    "tokenizer = AutoTokenizer.from_pretrained('t5-base')\n",
    "model = AutoModelWithLMHead.from_pretrained('t5-base', return_dict=True)"
   ]
  },
  {
   "cell_type": "code",
   "execution_count": null,
   "id": "e5e17f9f",
   "metadata": {},
   "outputs": [],
   "source": [
    "inputs = tokenizer.encode(\"summarize: \" + summaryword,\n",
    "return_tensors='pt',\n",
    "max_length=512,\n",
    "truncation=True)\n",
    "\n",
    "summary_ids = model.generate(inputs, max_length=120, min_length=80, length_penalty=5., num_beams=2)\n",
    "summaryt5 = tokenizer.decode(summary_ids[0])"
   ]
  },
  {
   "cell_type": "markdown",
   "id": "dd246fa0",
   "metadata": {},
   "source": [
    "# تقسیم هر خط به 7 کلمه"
   ]
  },
  {
   "cell_type": "code",
   "execution_count": null,
   "id": "778c5c70",
   "metadata": {},
   "outputs": [],
   "source": [
    "words1 = summaryt5.split()\n",
    "lines = [' '.join(words1[i:i+7]) for i in range(0, len(words1), 7)]\n",
    "\n",
    "main_text = '\\n'.join(lines)\n"
   ]
  },
  {
   "cell_type": "markdown",
   "id": "c1a89e72",
   "metadata": {},
   "source": [
    "# ساخت تصویر"
   ]
  },
  {
   "cell_type": "code",
   "execution_count": null,
   "id": "576f6bdf",
   "metadata": {},
   "outputs": [],
   "source": [
    "from PIL import Image, ImageDraw, ImageFont\n",
    "\n",
    "background_color = (0, 0, 0)\n",
    "image_size = (800, 600)\n",
    "background_image = Image.new('RGB', image_size, background_color)\n",
    "\n",
    "draw = ImageDraw.Draw(background_image)\n",
    "\n",
    "word_count = len(main_text.split())\n",
    "font_size = 50 - int(0.3 * word_count)\n",
    "text_color = (255, 255, 255)\n",
    "font = ImageFont.truetype(\"ARIAL.TTF\", font_size)\n",
    "text_position = (50, 50)\n",
    "draw.text(text_position, main_text, fill=text_color, font=font)\n",
    "\n",
    "background_image.save(\"result_image.png\")\n"
   ]
  }
 ],
 "metadata": {
  "kernelspec": {
   "display_name": "Python 3 (ipykernel)",
   "language": "python",
   "name": "python3"
  },
  "language_info": {
   "codemirror_mode": {
    "name": "ipython",
    "version": 3
   },
   "file_extension": ".py",
   "mimetype": "text/x-python",
   "name": "python",
   "nbconvert_exporter": "python",
   "pygments_lexer": "ipython3",
   "version": "3.11.5"
  }
 },
 "nbformat": 4,
 "nbformat_minor": 5
}

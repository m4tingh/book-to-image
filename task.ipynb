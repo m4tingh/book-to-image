{
 "cells": [
  {
   "cell_type": "markdown",
   "id": "7c8ac9bb",
   "metadata": {},
   "source": [
    "# Reading file"
   ]
  },
  {
   "cell_type": "code",
   "execution_count": 1,
   "id": "704671b9",
   "metadata": {},
   "outputs": [],
   "source": [
    "import pandas as pd"
   ]
  },
  {
   "cell_type": "code",
   "execution_count": 2,
   "id": "684734f7",
   "metadata": {},
   "outputs": [],
   "source": [
    "file_path = 'booksummaries.txt'\n",
    "\n",
    "with open(file_path, 'r', encoding='utf-8') as file:\n",
    "    content = file.read()"
   ]
  },
  {
   "cell_type": "markdown",
   "id": "602063a5",
   "metadata": {},
   "source": [
    "# Data Analyze"
   ]
  },
  {
   "cell_type": "code",
   "execution_count": 3,
   "id": "a8ecb4af",
   "metadata": {},
   "outputs": [],
   "source": [
    "def explore_text_content(content):\n",
    "    num_characters = len(content)\n",
    "    num_words = len(content.split())\n",
    "    unique_words = set(content.split())\n",
    "    num_unique_words = len(unique_words)       \n",
    "    return num_characters, num_words, num_unique_words\n",
    "\n",
    "num_characters, num_words, num_unique_words = explore_text_content(content)"
   ]
  },
  {
   "cell_type": "code",
   "execution_count": 4,
   "id": "211a005b",
   "metadata": {},
   "outputs": [
    {
     "name": "stdout",
     "output_type": "stream",
     "text": [
      "Number of characters: 43403998\n",
      "Number of words: 7313903\n",
      "Number of unique words: 379697\n"
     ]
    }
   ],
   "source": [
    "print(f\"Number of characters: {num_characters}\")\n",
    "print(f\"Number of words: {num_words}\")\n",
    "print(f\"Number of unique words: {num_unique_words}\")"
   ]
  },
  {
   "cell_type": "code",
   "execution_count": 5,
   "id": "7e7fdb73",
   "metadata": {},
   "outputs": [
    {
     "name": "stderr",
     "output_type": "stream",
     "text": [
      "[nltk_data] Downloading package punkt to\n",
      "[nltk_data]     C:\\Users\\m4tingh\\AppData\\Roaming\\nltk_data...\n",
      "[nltk_data]   Package punkt is already up-to-date!\n",
      "[nltk_data] Downloading package stopwords to\n",
      "[nltk_data]     C:\\Users\\m4tingh\\AppData\\Roaming\\nltk_data...\n",
      "[nltk_data]   Package stopwords is already up-to-date!\n"
     ]
    },
    {
     "data": {
      "text/plain": [
       "True"
      ]
     },
     "execution_count": 5,
     "metadata": {},
     "output_type": "execute_result"
    }
   ],
   "source": [
    "import nltk\n",
    "from nltk.corpus import stopwords\n",
    "from nltk.tokenize import word_tokenize, sent_tokenize\n",
    "from nltk.probability import FreqDist\n",
    "import string\n",
    "nltk.download('punkt')\n",
    "nltk.download('stopwords')"
   ]
  },
  {
   "cell_type": "code",
   "execution_count": 6,
   "id": "96a7a6c0",
   "metadata": {},
   "outputs": [],
   "source": [
    "words = word_tokenize(content)\n",
    "sentences = sent_tokenize(content)\n",
    "stopWords = set(stopwords.words(\"english\"))"
   ]
  },
  {
   "cell_type": "code",
   "execution_count": 7,
   "id": "1b57b436",
   "metadata": {},
   "outputs": [
    {
     "data": {
      "text/plain": [
       "[(',', 459684),\n",
       " ('the', 441251),\n",
       " ('.', 326359),\n",
       " ('to', 246217),\n",
       " ('and', 240876),\n",
       " ('of', 198934),\n",
       " ('a', 178633),\n",
       " ('is', 120096),\n",
       " ('in', 116285),\n",
       " (\"''\", 86302)]"
      ]
     },
     "execution_count": 7,
     "metadata": {},
     "output_type": "execute_result"
    }
   ],
   "source": [
    "fdist = FreqDist(words)\n",
    "fdist.most_common(10)"
   ]
  },
  {
   "cell_type": "code",
   "execution_count": 8,
   "id": "65a4ff40",
   "metadata": {},
   "outputs": [
    {
     "data": {
      "text/plain": [
       "[('one', 14971),\n",
       " ('time', 11103),\n",
       " ('also', 10752),\n",
       " ('two', 10404),\n",
       " ('life', 9822),\n",
       " ('novel', 9169),\n",
       " ('back', 9080),\n",
       " ('father', 8910),\n",
       " ('story', 8574),\n",
       " ('book', 8507)]"
      ]
     },
     "execution_count": 8,
     "metadata": {},
     "output_type": "execute_result"
    }
   ],
   "source": [
    "filtered_words = [word for word in words if word.lower() not in stopWords and word.isalpha()]\n",
    "\n",
    "fdist_filtered = FreqDist(filtered_words)\n",
    "fdist_filtered.most_common(10)"
   ]
  },
  {
   "cell_type": "markdown",
   "id": "c90d7a1c",
   "metadata": {},
   "source": [
    "# Data Cleaning"
   ]
  },
  {
   "cell_type": "code",
   "execution_count": 9,
   "id": "555e264a",
   "metadata": {},
   "outputs": [],
   "source": [
    "freqTable = dict()\n",
    "for word in words:\n",
    "  word = word.lower()\n",
    "  if word in stopWords:\n",
    "    continue\n",
    "  if word in freqTable:\n",
    "    freqTable[word] += 1\n",
    "  else:\n",
    "    freqTable[word] = 1\n",
    "\n",
    "sentences = content.split('.')\n",
    "sentenceValue = dict()\n",
    "\n",
    "for sentence in sentences:\n",
    "    sentenceWords = word_tokenize(sentence)\n",
    "    sentenceFreq = sum([freqTable.get(word.lower(), 0) for word in sentenceWords])\n",
    "    if sentence not in sentenceValue:\n",
    "        sentenceValue[sentence] = sentenceFreq\n",
    "\n",
    "sumValues = sum(sentenceValue.values())\n",
    "average = sumValues / len(sentenceValue) if len(sentenceValue) > 0 else 0\n",
    "\n",
    "summaryword = ' '.join([sentence for sentence, value in sentenceValue.items() if value > (1.2 * average)])"
   ]
  },
  {
   "cell_type": "markdown",
   "id": "3c3c0e1f",
   "metadata": {},
   "source": [
    "# T5"
   ]
  },
  {
   "cell_type": "code",
   "execution_count": 10,
   "id": "600733dd",
   "metadata": {},
   "outputs": [
    {
     "name": "stderr",
     "output_type": "stream",
     "text": [
      "C:\\ProgramData\\anaconda3\\Lib\\site-packages\\transformers\\models\\t5\\tokenization_t5_fast.py:155: FutureWarning: This tokenizer was incorrectly instantiated with a model max length of 512 which will be corrected in Transformers v5.\n",
      "For now, this behavior is kept to avoid breaking backwards compatibility when padding/encoding with `truncation is True`.\n",
      "- Be aware that you SHOULD NOT rely on t5-base automatically truncating your input to 512 when padding/encoding.\n",
      "- If you want to encode/pad to sequences longer than 512 you can either instantiate this tokenizer with `model_max_length` or pass `max_length` when encoding/padding.\n",
      "- To avoid this warning, please instantiate this tokenizer with `model_max_length` set to your preferred value.\n",
      "  warnings.warn(\n",
      "C:\\ProgramData\\anaconda3\\Lib\\site-packages\\transformers\\models\\auto\\modeling_auto.py:1468: FutureWarning: The class `AutoModelWithLMHead` is deprecated and will be removed in a future version. Please use `AutoModelForCausalLM` for causal language models, `AutoModelForMaskedLM` for masked language models and `AutoModelForSeq2SeqLM` for encoder-decoder models.\n",
      "  warnings.warn(\n"
     ]
    }
   ],
   "source": [
    "import torch\n",
    "from transformers import AutoTokenizer, AutoModelWithLMHead\n",
    "tokenizer = AutoTokenizer.from_pretrained('t5-base')\n",
    "model = AutoModelWithLMHead.from_pretrained('t5-base', return_dict=True)"
   ]
  },
  {
   "cell_type": "code",
   "execution_count": 11,
   "id": "e5e17f9f",
   "metadata": {},
   "outputs": [],
   "source": [
    "inputs = tokenizer.encode(\"summarize: \" + summaryword,\n",
    "return_tensors='pt',\n",
    "max_length=300,\n",
    "truncation=True)\n",
    "\n",
    "summary_ids = model.generate(inputs, max_length=120, min_length=80, length_penalty=5, num_beams=4, early_stopping=True, no_repeat_ngram_size=3)\n",
    "summaryt5 = tokenizer.decode(summary_ids[0])"
   ]
  },
  {
   "cell_type": "markdown",
   "id": "dd246fa0",
   "metadata": {},
   "source": [
    "# Splitting each line into 7 words"
   ]
  },
  {
   "cell_type": "code",
   "execution_count": 12,
   "id": "778c5c70",
   "metadata": {},
   "outputs": [],
   "source": [
    "words1 = summaryt5.split()\n",
    "lines = [' '.join(words1[i:i+7]) for i in range(0, len(words1), 7)]\n",
    "\n",
    "main_text = '\\n'.join(lines)\n",
    "\n",
    "main_text = main_text.replace('<pad>', '').replace('</s>', '')"
   ]
  },
  {
   "cell_type": "markdown",
   "id": "42b6ef70",
   "metadata": {},
   "source": [
    "# Summary output of the file"
   ]
  },
  {
   "cell_type": "code",
   "execution_count": 13,
   "id": "e1dc8ee3",
   "metadata": {},
   "outputs": [],
   "source": [
    "with open('summaries.txt', 'w') as file:\n",
    "    file.write(main_text)"
   ]
  },
  {
   "cell_type": "markdown",
   "id": "c1a89e72",
   "metadata": {},
   "source": [
    "# Creating an image"
   ]
  },
  {
   "cell_type": "code",
   "execution_count": 14,
   "id": "576f6bdf",
   "metadata": {},
   "outputs": [
    {
     "data": {
      "image/png": "[encoded data removed]",
      "text/plain": [
       "<Figure size 640x480 with 1 Axes>"
      ]
     },
     "metadata": {},
     "output_type": "display_data"
    },
    {
     "name": "stdout",
     "output_type": "stream",
     "text": [
      "\n",
      " done! :)\n"
     ]
    }
   ],
   "source": [
    "import matplotlib.pyplot as plt\n",
    "import numpy as np\n",
    "\n",
    "text = main_text\n",
    "fig, ax = plt.subplots()\n",
    "ax.text(0.5, 0.5, text, fontsize=12, ha='center')\n",
    "ax.axis('off')\n",
    "plt.savefig('image.png')\n",
    "plt.show()\n",
    "\n",
    "print(\"\\n done! :)\")"
   ]
  },
  {
   "cell_type": "code",
   "execution_count": 16,
   "id": "bbb2d0d5",
   "metadata": {},
   "outputs": [
    {
     "name": "stdout",
     "output_type": "stream",
     "text": [
      "test\n"
     ]
    }
   ],
   "source": [
    "print('test')"
   ]
  }
 ],
 "metadata": {
  "kernelspec": {
   "display_name": "Python 3 (ipykernel)",
   "language": "python",
   "name": "python3"
  },
  "language_info": {
   "codemirror_mode": {
    "name": "ipython",
    "version": 3
   },
   "file_extension": ".py",
   "mimetype": "text/x-python",
   "name": "python",
   "nbconvert_exporter": "python",
   "pygments_lexer": "ipython3",
   "version": "3.11.5"
  }
 },
 "nbformat": 4,
 "nbformat_minor": 5
}

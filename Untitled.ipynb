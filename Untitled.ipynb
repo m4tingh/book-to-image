{
 "cells": [
  {
   "cell_type": "code",
   "execution_count": 1,
   "id": "704671b9",
   "metadata": {},
   "outputs": [],
   "source": [
    "import pandas as pd"
   ]
  },
  {
   "cell_type": "code",
   "execution_count": 2,
   "id": "684734f7",
   "metadata": {},
   "outputs": [],
   "source": [
    "# مسیر فایل متنی\n",
    "file_path = 'booksummaries.txt'\n",
    "\n",
    "# باز کردن فایل برای خواندن\n",
    "with open(file_path, 'r', encoding='utf-8') as file:\n",
    "    # خواندن محتوای فایل\n",
    "    content = file.read()"
   ]
  },
  {
   "cell_type": "code",
   "execution_count": 3,
   "id": "9e0673d9",
   "metadata": {},
   "outputs": [
    {
     "ename": "AttributeError",
     "evalue": "'str' object has no attribute 'describe'",
     "output_type": "error",
     "traceback": [
      "\u001b[1;31m---------------------------------------------------------------------------\u001b[0m",
      "\u001b[1;31mAttributeError\u001b[0m                            Traceback (most recent call last)",
      "Cell \u001b[1;32mIn[3], line 1\u001b[0m\n\u001b[1;32m----> 1\u001b[0m content\u001b[38;5;241m.\u001b[39mdescribe()\n",
      "\u001b[1;31mAttributeError\u001b[0m: 'str' object has no attribute 'describe'"
     ]
    }
   ],
   "source": [
    "content.describe()"
   ]
  }
 ],
 "metadata": {
  "kernelspec": {
   "display_name": "Python 3 (ipykernel)",
   "language": "python",
   "name": "python3"
  },
  "language_info": {
   "codemirror_mode": {
    "name": "ipython",
    "version": 3
   },
   "file_extension": ".py",
   "mimetype": "text/x-python",
   "name": "python",
   "nbconvert_exporter": "python",
   "pygments_lexer": "ipython3",
   "version": "3.11.5"
  }
 },
 "nbformat": 4,
 "nbformat_minor": 5
}
